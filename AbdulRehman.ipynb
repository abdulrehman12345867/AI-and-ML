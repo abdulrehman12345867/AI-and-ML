{
  "metadata": {
    "kernelspec": {
      "name": "python",
      "display_name": "Python (Pyodide)",
      "language": "python"
    },
    "language_info": {
      "codemirror_mode": {
        "name": "python",
        "version": 3
      },
      "file_extension": ".py",
      "mimetype": "text/x-python",
      "name": "python",
      "nbconvert_exporter": "python",
      "pygments_lexer": "ipython3",
      "version": "3.8"
    }
  },
  "nbformat_minor": 5,
  "nbformat": 4,
  "cells": [
    {
      "id": "3d5b4a77-5c11-46c6-a763-cec17d874fec",
      "cell_type": "markdown",
      "source": "# Cleaning Data",
      "metadata": {}
    },
    {
      "id": "5f281ad2-20cb-49b6-b40d-aeb07336f0f1",
      "cell_type": "code",
      "source": "import numpy as np\nimport pandas as pd\ndf=pd.read_csv('student.csv')\nprint(df)\n\n\n",
      "metadata": {
        "trusted": true
      },
      "outputs": [
        {
          "name": "stdout",
          "output_type": "stream",
          "text": "   ID     Name     Age Score         City     JoinedDate\n0   1    Alice      21    85     New York     2023-01-15\n1   2      Bob            90  Los Angeles     2023-03-12\n2   3  Charlie      22   NaN      Chicago     2022-11-30\n3   4    David      23    78     New York     2023-02-20\n4   5      Eva      21    88                  2023-03-01\n5   6    Alice      21    85     New York     2023-01-15\n6   7   Frank       24    92      Houston     2023-05-10\n7   8    Grace  twenty    75       Boston  not_available\n8   9      NaN      25    80       Dallas     2023-04-15\n9  10    Henry      22             Austin     2023-06-05\n"
        }
      ],
      "execution_count": 5
    },
    {
      "id": "1b35a2c6-6cc9-482e-9136-b59241726704",
      "cell_type": "markdown",
      "source": "## Drop na",
      "metadata": {}
    },
    {
      "id": "8873bb94-1abe-4f62-a185-e12a5b7043d3",
      "cell_type": "code",
      "source": "new_df=df.dropna()\nprint(new_df)",
      "metadata": {
        "trusted": true
      },
      "outputs": [
        {
          "name": "stdout",
          "output_type": "stream",
          "text": "   ID     Name     Age Score         City     JoinedDate\n0   1    Alice      21    85     New York     2023-01-15\n1   2      Bob            90  Los Angeles     2023-03-12\n3   4    David      23    78     New York     2023-02-20\n4   5      Eva      21    88                  2023-03-01\n5   6    Alice      21    85     New York     2023-01-15\n6   7   Frank       24    92      Houston     2023-05-10\n7   8    Grace  twenty    75       Boston  not_available\n9  10    Henry      22             Austin     2023-06-05\n"
        }
      ],
      "execution_count": 29
    },
    {
      "id": "46dcf66c-dd7d-40c8-8d6c-b342e9a857cb",
      "cell_type": "markdown",
      "source": "## Fill na",
      "metadata": {}
    },
    {
      "id": "59d8d3c4-e4ee-496d-a07a-c4b200cb0dfe",
      "cell_type": "code",
      "source": "new=df.fillna({\"Score\":120})\nprint(new)",
      "metadata": {
        "trusted": true
      },
      "outputs": [
        {
          "name": "stdout",
          "output_type": "stream",
          "text": "   ID     Name     Age Score         City JoinedDate\n0   1    Alice      21    85     New York 2023-01-15\n1   2      Bob            90  Los Angeles 2023-03-12\n2   3  Charlie      22   120      Chicago 2022-11-30\n3   4    David      23    78     New York 2023-02-20\n4   5      Eva      21    88              2023-03-01\n5   6    Alice      21    85     New York 2023-01-15\n6   7   Frank       24    92      Houston 2023-05-10\n7   8    Grace  twenty    75       Boston        NaT\n8   9      NaN      25    80       Dallas 2023-04-15\n9  10    Henry      22             Austin 2023-06-05\n"
        }
      ],
      "execution_count": 8
    },
    {
      "id": "a2a53c70-7801-4620-b83b-2f74efaa0928",
      "cell_type": "markdown",
      "source": "# Fill na",
      "metadata": {}
    },
    {
      "id": "c470db5a-52a3-4902-97de-d6efd222e916",
      "cell_type": "code",
      "source": "new=df.fillna({\"Name\":\"Haris\"})\nprint(new)",
      "metadata": {
        "trusted": true
      },
      "outputs": [
        {
          "name": "stdout",
          "output_type": "stream",
          "text": "   ID     Name     Age Score         City JoinedDate\n0   1    Alice      21    85     New York 2023-01-15\n1   2      Bob            90  Los Angeles 2023-03-12\n2   3  Charlie      22   NaN      Chicago 2022-11-30\n3   4    David      23    78     New York 2023-02-20\n4   5      Eva      21    88              2023-03-01\n5   6    Alice      21    85     New York 2023-01-15\n6   7   Frank       24    92      Houston 2023-05-10\n7   8    Grace  twenty    75       Boston        NaT\n8   9    Haris      25    80       Dallas 2023-04-15\n9  10    Henry      22             Austin 2023-06-05\n"
        }
      ],
      "execution_count": 9
    },
    {
      "id": "35355bf7-b634-42fb-a720-ed757ecb727a",
      "cell_type": "markdown",
      "source": "# Mode",
      "metadata": {}
    },
    {
      "id": "2c41c135-8bb3-42a2-9c1d-115e59f0f468",
      "cell_type": "code",
      "source": "x=df[\"Score\"].mode()[0]\nprint(x)",
      "metadata": {
        "trusted": true
      },
      "outputs": [
        {
          "name": "stdout",
          "output_type": "stream",
          "text": "85\n"
        }
      ],
      "execution_count": 49
    },
    {
      "id": "31325b44-3a5a-4d92-86f4-1b6eb15952ed",
      "cell_type": "markdown",
      "source": "# Remove Duplicates",
      "metadata": {}
    },
    {
      "id": "33885952-6ed8-439c-9ab0-f39cb41d1498",
      "cell_type": "code",
      "source": "y=df.duplicated()\nprint(y)",
      "metadata": {
        "trusted": true
      },
      "outputs": [
        {
          "name": "stdout",
          "output_type": "stream",
          "text": "0    False\n1    False\n2    False\n3    False\n4    False\n5    False\n6    False\n7    False\n8    False\n9    False\ndtype: bool\n"
        }
      ],
      "execution_count": 63
    },
    {
      "id": "33af2955-24f6-4390-9000-2715e0870e45",
      "cell_type": "markdown",
      "source": "### There is no duplicate data so we don't have to remove it.",
      "metadata": {}
    },
    {
      "id": "bc393a47-ffee-428b-b012-b0458656f16d",
      "cell_type": "markdown",
      "source": "# Cleaning Wrong Format",
      "metadata": {}
    },
    {
      "id": "ec352eaf-6a85-4d24-97ea-f76e86b89ae2",
      "cell_type": "code",
      "source": "df['JoinedDate'] = pd.to_datetime(df['JoinedDate'], errors='coerce')\n\nprint(df)",
      "metadata": {
        "trusted": true
      },
      "outputs": [
        {
          "name": "stdout",
          "output_type": "stream",
          "text": "   ID     Name     Age  Score         City JoinedDate\n0   1    Alice      21   85.0     New York 2023-01-15\n1   2      Bob     NaN   90.0  Los Angeles 2023-03-12\n2   3  Charlie      22   70.0      Chicago 2022-11-30\n3   4    David      23   78.0     New York 2023-02-20\n4   5      Eva      21   88.0          NaN 2023-03-01\n5   6    Alice      21   85.0     New York 2023-01-15\n6   7   Frank       24   92.0      Houston 2023-05-10\n7   8    Grace  twenty   75.0       Boston        NaT\n8   9      NaN      25   80.0       Dallas 2023-04-15\n9  10    Henry      22    NaN       Austin 2023-06-05\n"
        }
      ],
      "execution_count": 15
    },
    {
      "id": "2de0a703-5410-41db-bd75-69655334e481",
      "cell_type": "markdown",
      "source": "# Cleaning Wrong Data",
      "metadata": {}
    },
    {
      "id": "eda2ceaa-9cf1-4deb-bf4e-7e15d8bf74b6",
      "cell_type": "code",
      "source": "df.loc[2, 'Score'] = 70\nprint(df)",
      "metadata": {
        "trusted": true
      },
      "outputs": [
        {
          "name": "stdout",
          "output_type": "stream",
          "text": "   ID     Name     Age Score         City JoinedDate\n0   1    Alice      21    85     New York 2023-01-15\n1   2      Bob            90  Los Angeles 2023-03-12\n2   3  Charlie      22    70      Chicago 2022-11-30\n3   4    David      23    78     New York 2023-02-20\n4   5      Eva      21    88              2023-03-01\n5   6    Alice      21    85     New York 2023-01-15\n6   7   Frank       24    92      Houston 2023-05-10\n7   8    Grace  twenty    75       Boston        NaT\n8   9      NaN      25    80       Dallas 2023-04-15\n9  10    Henry      22             Austin 2023-06-05\n"
        }
      ],
      "execution_count": 11
    },
    {
      "id": "660222c3-2c37-4f8b-b994-cb61acf81a62",
      "cell_type": "markdown",
      "source": "## Mean",
      "metadata": {}
    },
    {
      "id": "7ff80415-595b-4647-9099-7ea0f39d09f6",
      "cell_type": "code",
      "source": "df=df.replace('  ',np.nan)\ndf=df.replace(' ',np.nan)\ndf=df.replace('',np.nan)\nprint(df.head(10))\ndf[\"Score\"]=df[\"Score\"].astype(float)\nx=df[\"Score\"].mean()\nprint(x)",
      "metadata": {
        "trusted": true
      },
      "outputs": [
        {
          "name": "stdout",
          "output_type": "stream",
          "text": "   ID     Name     Age Score         City JoinedDate\n0   1    Alice      21    85     New York 2023-01-15\n1   2      Bob     NaN    90  Los Angeles 2023-03-12\n2   3  Charlie      22    70      Chicago 2022-11-30\n3   4    David      23    78     New York 2023-02-20\n4   5      Eva      21    88          NaN 2023-03-01\n5   6    Alice      21    85     New York 2023-01-15\n6   7   Frank       24    92      Houston 2023-05-10\n7   8    Grace  twenty    75       Boston        NaT\n8   9      NaN      25    80       Dallas 2023-04-15\n9  10    Henry      22   NaN       Austin 2023-06-05\n82.55555555555556\n"
        }
      ],
      "execution_count": 13
    },
    {
      "id": "3e82b837-a251-476c-8146-ace055e45337",
      "cell_type": "markdown",
      "source": "## Meadian",
      "metadata": {}
    },
    {
      "id": "85a9e874-d3e1-4068-bd4b-2e4cab44ae21",
      "cell_type": "code",
      "source": "x=df[\"Score\"].median()\nprint(x)",
      "metadata": {
        "trusted": true
      },
      "outputs": [
        {
          "name": "stdout",
          "output_type": "stream",
          "text": "85.0\n"
        }
      ],
      "execution_count": 14
    },
    {
      "id": "48571b5e-e2b6-447b-a566-1270b1ef29be",
      "cell_type": "code",
      "source": "",
      "metadata": {
        "trusted": true
      },
      "outputs": [],
      "execution_count": null
    }
  ]
}